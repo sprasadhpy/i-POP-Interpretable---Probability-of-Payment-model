{
  "cells": [
    {
      "cell_type": "code",
      "execution_count": null,
      "metadata": {
        "id": "Hufvc_mfDpFD",
        "outputId": "c5c69c11-51de-4f7a-c059-b3d7d170a82d"
      },
      "outputs": [
        {
          "name": "stdout",
          "output_type": "stream",
          "text": [
            "Collecting pyreadstat\n",
            "  Downloading pyreadstat-1.1.9-cp37-cp37m-manylinux_2_17_x86_64.manylinux2014_x86_64.whl (2.5 MB)\n",
            "\u001b[2K     \u001b[90m━━━━━━━━━━━━━━━━━━━━━━━━━━━━━━━━━━━━━━━━\u001b[0m \u001b[32m2.5/2.5 MB\u001b[0m \u001b[31m37.9 MB/s\u001b[0m eta \u001b[36m0:00:00\u001b[0ma \u001b[36m0:00:01\u001b[0m\n",
            "\u001b[?25hRequirement already satisfied: pandas>=1.2.0 in /opt/conda/lib/python3.7/site-packages (from pyreadstat) (1.3.5)\n",
            "Requirement already satisfied: python-dateutil>=2.7.3 in /opt/conda/lib/python3.7/site-packages (from pandas>=1.2.0->pyreadstat) (2.8.2)\n",
            "Requirement already satisfied: pytz>=2017.3 in /opt/conda/lib/python3.7/site-packages (from pandas>=1.2.0->pyreadstat) (2022.2.1)\n",
            "Requirement already satisfied: numpy>=1.17.3 in /opt/conda/lib/python3.7/site-packages (from pandas>=1.2.0->pyreadstat) (1.21.6)\n",
            "Requirement already satisfied: six>=1.5 in /opt/conda/lib/python3.7/site-packages (from python-dateutil>=2.7.3->pandas>=1.2.0->pyreadstat) (1.16.0)\n",
            "Installing collected packages: pyreadstat\n",
            "Successfully installed pyreadstat-1.1.9\n"
          ]
        }
      ],
      "source": [
        "!pip install pyreadstat"
      ]
    },
    {
      "cell_type": "code",
      "execution_count": null,
      "metadata": {
        "colab": {
          "base_uri": "https://localhost:8080/"
        },
        "id": "DiM9Nsf8MvFV",
        "outputId": "c4b171e3-a522-446f-adc4-f95b38d1988e"
      },
      "outputs": [
        {
          "name": "stdout",
          "output_type": "stream",
          "text": [
            "Collecting gdown\n",
            "  Downloading gdown-4.5.1.tar.gz (14 kB)\n",
            "  Installing build dependencies ... \u001b[?25ldone\n",
            "\u001b[?25h  Getting requirements to build wheel ... \u001b[?25ldone\n",
            "\u001b[?25h  Preparing metadata (pyproject.toml) ... \u001b[?25ldone\n",
            "\u001b[?25hRequirement already satisfied: filelock in /opt/conda/lib/python3.7/site-packages (from gdown) (3.8.0)\n",
            "Requirement already satisfied: tqdm in /opt/conda/lib/python3.7/site-packages (from gdown) (4.64.1)\n",
            "Requirement already satisfied: beautifulsoup4 in /opt/conda/lib/python3.7/site-packages (from gdown) (4.11.1)\n",
            "Requirement already satisfied: six in /opt/conda/lib/python3.7/site-packages (from gdown) (1.16.0)\n",
            "Requirement already satisfied: requests[socks] in /opt/conda/lib/python3.7/site-packages (from gdown) (2.28.1)\n",
            "Requirement already satisfied: soupsieve>1.2 in /opt/conda/lib/python3.7/site-packages (from beautifulsoup4->gdown) (2.3.2.post1)\n",
            "Requirement already satisfied: certifi>=2017.4.17 in /opt/conda/lib/python3.7/site-packages (from requests[socks]->gdown) (2022.9.24)\n",
            "Requirement already satisfied: charset-normalizer<3,>=2 in /opt/conda/lib/python3.7/site-packages (from requests[socks]->gdown) (2.1.1)\n",
            "Requirement already satisfied: idna<4,>=2.5 in /opt/conda/lib/python3.7/site-packages (from requests[socks]->gdown) (3.4)\n",
            "Requirement already satisfied: urllib3<1.27,>=1.21.1 in /opt/conda/lib/python3.7/site-packages (from requests[socks]->gdown) (1.26.11)\n",
            "Requirement already satisfied: PySocks!=1.5.7,>=1.5.6 in /opt/conda/lib/python3.7/site-packages (from requests[socks]->gdown) (1.7.1)\n",
            "Building wheels for collected packages: gdown\n",
            "  Building wheel for gdown (pyproject.toml) ... \u001b[?25ldone\n",
            "\u001b[?25h  Created wheel for gdown: filename=gdown-4.5.1-py3-none-any.whl size=14933 sha256=daeb03fc4a23fee1315ecf0829b2dd90da8bb358db06f1927e443d5a31e6638e\n",
            "  Stored in directory: /home/jupyter/.cache/pip/wheels/3d/ec/b0/a96d1d126183f98570a785e6bf8789fca559853a9260e928e1\n",
            "Successfully built gdown\n",
            "Installing collected packages: gdown\n",
            "Successfully installed gdown-4.5.1\n"
          ]
        }
      ],
      "source": [
        "!pip install gdown"
      ]
    },
    {
      "cell_type": "code",
      "execution_count": null,
      "metadata": {
        "colab": {
          "base_uri": "https://localhost:8080/"
        },
        "id": "DHuYBC_yE1sV",
        "outputId": "fa2ec249-50c6-4641-e672-cb39ef2a4879"
      },
      "outputs": [
        {
          "name": "stdout",
          "output_type": "stream",
          "text": [
            "/opt/conda/lib/python3.7/site-packages/gdown/cli.py:131: FutureWarning: Option `--id` was deprecated in version 4.3.1 and will be removed in 5.0. You don't need to pass it anymore to use a file ID.\n",
            "  category=FutureWarning,\n",
            "Downloading...\n",
            "From: https://drive.google.com/uc?id=1SEN7OU5IoOWO8e7lVayzt8yO9uGhyqWF\n",
            "To: /home/jupyter/uk_comm_ptrans_data.sas7bdat\n",
            "100%|███████████████████████████████████████| 8.59M/8.59M [00:00<00:00, 115MB/s]\n"
          ]
        }
      ],
      "source": [
        "!gdown --id 1SEN7OU5IoOWO8e7lVayzt8yO9uGhyqWF"
      ]
    },
    {
      "cell_type": "code",
      "execution_count": null,
      "metadata": {
        "colab": {
          "base_uri": "https://localhost:8080/"
        },
        "id": "_wMWPXMGWjyJ",
        "outputId": "fabb0d0a-9514-4380-ddce-5c4f2850fea3"
      },
      "outputs": [
        {
          "name": "stdout",
          "output_type": "stream",
          "text": [
            "Collecting gaminet\n",
            "  Downloading gaminet-0.5.8-py3-none-any.whl (6.7 MB)\n",
            "\u001b[2K     \u001b[90m━━━━━━━━━━━━━━━━━━━━━━━━━━━━━━━━━━━━━━━━\u001b[0m \u001b[32m6.7/6.7 MB\u001b[0m \u001b[31m55.1 MB/s\u001b[0m eta \u001b[36m0:00:00\u001b[0m00:01\u001b[0m00:01\u001b[0m\n",
            "\u001b[?25hRequirement already satisfied: matplotlib>=3.1.3 in /opt/conda/lib/python3.7/site-packages (from gaminet) (3.5.3)\n",
            "Requirement already satisfied: tensorflow>=2.0.0 in /opt/conda/lib/python3.7/site-packages (from gaminet) (2.8.3)\n",
            "Collecting tensorflow-lattice>=2.0.8\n",
            "  Downloading tensorflow_lattice-2.0.10-py2.py3-none-any.whl (236 kB)\n",
            "\u001b[2K     \u001b[90m━━━━━━━━━━━━━━━━━━━━━━━━━━━━━━━━━━━━━━\u001b[0m \u001b[32m236.6/236.6 kB\u001b[0m \u001b[31m30.2 MB/s\u001b[0m eta \u001b[36m0:00:00\u001b[0m\n",
            "\u001b[?25hRequirement already satisfied: numpy>=1.15.2 in /opt/conda/lib/python3.7/site-packages (from gaminet) (1.21.6)\n",
            "Requirement already satisfied: scikit-learn>=0.23.0 in /opt/conda/lib/python3.7/site-packages (from gaminet) (1.0.2)\n",
            "Requirement already satisfied: pandas>=0.19.2 in /opt/conda/lib/python3.7/site-packages (from gaminet) (1.3.5)\n",
            "Requirement already satisfied: python-dateutil>=2.7 in /opt/conda/lib/python3.7/site-packages (from matplotlib>=3.1.3->gaminet) (2.8.2)\n",
            "Requirement already satisfied: pillow>=6.2.0 in /opt/conda/lib/python3.7/site-packages (from matplotlib>=3.1.3->gaminet) (9.2.0)\n",
            "Requirement already satisfied: fonttools>=4.22.0 in /opt/conda/lib/python3.7/site-packages (from matplotlib>=3.1.3->gaminet) (4.37.3)\n",
            "Requirement already satisfied: packaging>=20.0 in /opt/conda/lib/python3.7/site-packages (from matplotlib>=3.1.3->gaminet) (21.3)\n",
            "Requirement already satisfied: cycler>=0.10 in /opt/conda/lib/python3.7/site-packages (from matplotlib>=3.1.3->gaminet) (0.11.0)\n",
            "Requirement already satisfied: kiwisolver>=1.0.1 in /opt/conda/lib/python3.7/site-packages (from matplotlib>=3.1.3->gaminet) (1.4.4)\n",
            "Requirement already satisfied: pyparsing>=2.2.1 in /opt/conda/lib/python3.7/site-packages (from matplotlib>=3.1.3->gaminet) (3.0.9)\n",
            "Requirement already satisfied: pytz>=2017.3 in /opt/conda/lib/python3.7/site-packages (from pandas>=0.19.2->gaminet) (2022.2.1)\n",
            "Requirement already satisfied: threadpoolctl>=2.0.0 in /opt/conda/lib/python3.7/site-packages (from scikit-learn>=0.23.0->gaminet) (3.1.0)\n",
            "Requirement already satisfied: joblib>=0.11 in /opt/conda/lib/python3.7/site-packages (from scikit-learn>=0.23.0->gaminet) (1.2.0)\n",
            "Requirement already satisfied: scipy>=1.1.0 in /opt/conda/lib/python3.7/site-packages (from scikit-learn>=0.23.0->gaminet) (1.7.3)\n",
            "Requirement already satisfied: h5py>=2.9.0 in /opt/conda/lib/python3.7/site-packages (from tensorflow>=2.0.0->gaminet) (3.7.0)\n",
            "Requirement already satisfied: keras-preprocessing>=1.1.1 in /opt/conda/lib/python3.7/site-packages (from tensorflow>=2.0.0->gaminet) (1.1.2)\n",
            "Requirement already satisfied: tensorboard<2.9,>=2.8 in /opt/conda/lib/python3.7/site-packages (from tensorflow>=2.0.0->gaminet) (2.8.0)\n",
            "Requirement already satisfied: typing-extensions>=3.6.6 in /opt/conda/lib/python3.7/site-packages (from tensorflow>=2.0.0->gaminet) (4.3.0)\n",
            "Requirement already satisfied: tensorflow-estimator<2.9,>=2.8 in /opt/conda/lib/python3.7/site-packages (from tensorflow>=2.0.0->gaminet) (2.8.0)\n",
            "Requirement already satisfied: keras<2.9,>=2.8.0rc0 in /opt/conda/lib/python3.7/site-packages (from tensorflow>=2.0.0->gaminet) (2.8.0)\n",
            "Requirement already satisfied: gast>=0.2.1 in /opt/conda/lib/python3.7/site-packages (from tensorflow>=2.0.0->gaminet) (0.5.3)\n",
            "Requirement already satisfied: grpcio<2.0,>=1.24.3 in /opt/conda/lib/python3.7/site-packages (from tensorflow>=2.0.0->gaminet) (1.49.1)\n",
            "Requirement already satisfied: libclang>=9.0.1 in /opt/conda/lib/python3.7/site-packages (from tensorflow>=2.0.0->gaminet) (14.0.6)\n",
            "Requirement already satisfied: six>=1.12.0 in /opt/conda/lib/python3.7/site-packages (from tensorflow>=2.0.0->gaminet) (1.16.0)\n",
            "Requirement already satisfied: astunparse>=1.6.0 in /opt/conda/lib/python3.7/site-packages (from tensorflow>=2.0.0->gaminet) (1.6.3)\n",
            "Requirement already satisfied: google-pasta>=0.1.1 in /opt/conda/lib/python3.7/site-packages (from tensorflow>=2.0.0->gaminet) (0.2.0)\n",
            "Requirement already satisfied: absl-py>=0.4.0 in /opt/conda/lib/python3.7/site-packages (from tensorflow>=2.0.0->gaminet) (1.2.0)\n",
            "Requirement already satisfied: termcolor>=1.1.0 in /opt/conda/lib/python3.7/site-packages (from tensorflow>=2.0.0->gaminet) (2.0.1)\n",
            "Requirement already satisfied: opt-einsum>=2.3.2 in /opt/conda/lib/python3.7/site-packages (from tensorflow>=2.0.0->gaminet) (3.3.0)\n",
            "Requirement already satisfied: tensorflow-io-gcs-filesystem>=0.23.1 in /opt/conda/lib/python3.7/site-packages (from tensorflow>=2.0.0->gaminet) (0.27.0)\n",
            "Requirement already satisfied: setuptools in /opt/conda/lib/python3.7/site-packages (from tensorflow>=2.0.0->gaminet) (59.8.0)\n",
            "Requirement already satisfied: protobuf<3.20,>=3.9.2 in /opt/conda/lib/python3.7/site-packages (from tensorflow>=2.0.0->gaminet) (3.19.5)\n",
            "Requirement already satisfied: flatbuffers>=1.12 in /opt/conda/lib/python3.7/site-packages (from tensorflow>=2.0.0->gaminet) (22.9.24)\n",
            "Requirement already satisfied: wrapt>=1.11.0 in /opt/conda/lib/python3.7/site-packages (from tensorflow>=2.0.0->gaminet) (1.14.1)\n",
            "Collecting graphviz\n",
            "  Downloading graphviz-0.20.1-py3-none-any.whl (47 kB)\n",
            "\u001b[2K     \u001b[90m━━━━━━━━━━━━━━━━━━━━━━━━━━━━━━━━━━━━━━━━\u001b[0m \u001b[32m47.0/47.0 kB\u001b[0m \u001b[31m8.1 MB/s\u001b[0m eta \u001b[36m0:00:00\u001b[0m\n",
            "\u001b[?25hCollecting dm-sonnet\n",
            "  Downloading dm_sonnet-2.0.0-py3-none-any.whl (254 kB)\n",
            "\u001b[2K     \u001b[90m━━━━━━━━━━━━━━━━━━━━━━━━━━━━━━━━━━━━━━\u001b[0m \u001b[32m254.5/254.5 kB\u001b[0m \u001b[31m33.1 MB/s\u001b[0m eta \u001b[36m0:00:00\u001b[0m\n",
            "\u001b[?25hRequirement already satisfied: wheel<1.0,>=0.23.0 in /opt/conda/lib/python3.7/site-packages (from astunparse>=1.6.0->tensorflow>=2.0.0->gaminet) (0.37.1)\n",
            "Requirement already satisfied: google-auth-oauthlib<0.5,>=0.4.1 in /opt/conda/lib/python3.7/site-packages (from tensorboard<2.9,>=2.8->tensorflow>=2.0.0->gaminet) (0.4.6)\n",
            "Requirement already satisfied: requests<3,>=2.21.0 in /opt/conda/lib/python3.7/site-packages (from tensorboard<2.9,>=2.8->tensorflow>=2.0.0->gaminet) (2.28.1)\n",
            "Requirement already satisfied: markdown>=2.6.8 in /opt/conda/lib/python3.7/site-packages (from tensorboard<2.9,>=2.8->tensorflow>=2.0.0->gaminet) (3.4.1)\n",
            "Requirement already satisfied: tensorboard-data-server<0.7.0,>=0.6.0 in /opt/conda/lib/python3.7/site-packages (from tensorboard<2.9,>=2.8->tensorflow>=2.0.0->gaminet) (0.6.1)\n",
            "Requirement already satisfied: tensorboard-plugin-wit>=1.6.0 in /opt/conda/lib/python3.7/site-packages (from tensorboard<2.9,>=2.8->tensorflow>=2.0.0->gaminet) (1.8.1)\n",
            "Requirement already satisfied: werkzeug>=0.11.15 in /opt/conda/lib/python3.7/site-packages (from tensorboard<2.9,>=2.8->tensorflow>=2.0.0->gaminet) (2.2.2)\n",
            "Requirement already satisfied: google-auth<3,>=1.6.3 in /opt/conda/lib/python3.7/site-packages (from tensorboard<2.9,>=2.8->tensorflow>=2.0.0->gaminet) (2.11.1)\n",
            "Requirement already satisfied: dm-tree>=0.1.1 in /opt/conda/lib/python3.7/site-packages (from dm-sonnet->tensorflow-lattice>=2.0.8->gaminet) (0.1.7)\n",
            "Collecting tabulate>=0.7.5\n",
            "  Downloading tabulate-0.8.10-py3-none-any.whl (29 kB)\n",
            "Requirement already satisfied: rsa<5,>=3.1.4 in /opt/conda/lib/python3.7/site-packages (from google-auth<3,>=1.6.3->tensorboard<2.9,>=2.8->tensorflow>=2.0.0->gaminet) (4.9)\n",
            "Requirement already satisfied: cachetools<6.0,>=2.0.0 in /opt/conda/lib/python3.7/site-packages (from google-auth<3,>=1.6.3->tensorboard<2.9,>=2.8->tensorflow>=2.0.0->gaminet) (5.2.0)\n",
            "Requirement already satisfied: pyasn1-modules>=0.2.1 in /opt/conda/lib/python3.7/site-packages (from google-auth<3,>=1.6.3->tensorboard<2.9,>=2.8->tensorflow>=2.0.0->gaminet) (0.2.7)\n",
            "Requirement already satisfied: requests-oauthlib>=0.7.0 in /opt/conda/lib/python3.7/site-packages (from google-auth-oauthlib<0.5,>=0.4.1->tensorboard<2.9,>=2.8->tensorflow>=2.0.0->gaminet) (1.3.1)\n",
            "Requirement already satisfied: importlib-metadata>=4.4 in /opt/conda/lib/python3.7/site-packages (from markdown>=2.6.8->tensorboard<2.9,>=2.8->tensorflow>=2.0.0->gaminet) (4.11.4)\n",
            "Requirement already satisfied: certifi>=2017.4.17 in /opt/conda/lib/python3.7/site-packages (from requests<3,>=2.21.0->tensorboard<2.9,>=2.8->tensorflow>=2.0.0->gaminet) (2022.9.24)\n",
            "Requirement already satisfied: charset-normalizer<3,>=2 in /opt/conda/lib/python3.7/site-packages (from requests<3,>=2.21.0->tensorboard<2.9,>=2.8->tensorflow>=2.0.0->gaminet) (2.1.1)\n",
            "Requirement already satisfied: urllib3<1.27,>=1.21.1 in /opt/conda/lib/python3.7/site-packages (from requests<3,>=2.21.0->tensorboard<2.9,>=2.8->tensorflow>=2.0.0->gaminet) (1.26.11)\n",
            "Requirement already satisfied: idna<4,>=2.5 in /opt/conda/lib/python3.7/site-packages (from requests<3,>=2.21.0->tensorboard<2.9,>=2.8->tensorflow>=2.0.0->gaminet) (3.4)\n",
            "Requirement already satisfied: MarkupSafe>=2.1.1 in /opt/conda/lib/python3.7/site-packages (from werkzeug>=0.11.15->tensorboard<2.9,>=2.8->tensorflow>=2.0.0->gaminet) (2.1.1)\n",
            "Requirement already satisfied: zipp>=0.5 in /opt/conda/lib/python3.7/site-packages (from importlib-metadata>=4.4->markdown>=2.6.8->tensorboard<2.9,>=2.8->tensorflow>=2.0.0->gaminet) (3.8.1)\n",
            "Requirement already satisfied: pyasn1<0.5.0,>=0.4.6 in /opt/conda/lib/python3.7/site-packages (from pyasn1-modules>=0.2.1->google-auth<3,>=1.6.3->tensorboard<2.9,>=2.8->tensorflow>=2.0.0->gaminet) (0.4.8)\n",
            "Requirement already satisfied: oauthlib>=3.0.0 in /opt/conda/lib/python3.7/site-packages (from requests-oauthlib>=0.7.0->google-auth-oauthlib<0.5,>=0.4.1->tensorboard<2.9,>=2.8->tensorflow>=2.0.0->gaminet) (3.2.1)\n",
            "Installing collected packages: tabulate, graphviz, dm-sonnet, tensorflow-lattice, gaminet\n",
            "Successfully installed dm-sonnet-2.0.0 gaminet-0.5.8 graphviz-0.20.1 tabulate-0.8.10 tensorflow-lattice-2.0.10\n"
          ]
        }
      ],
      "source": [
        "!pip install gaminet"
      ]
    },
    {
      "cell_type": "code",
      "execution_count": null,
      "metadata": {
        "id": "sml8nY0_rYVv",
        "outputId": "09735f4b-bf2a-4306-b3e0-b2b5ade33f7b"
      },
      "outputs": [
        {
          "name": "stdout",
          "output_type": "stream",
          "text": [
            "Collecting xlwt\n",
            "  Downloading xlwt-1.3.0-py2.py3-none-any.whl (99 kB)\n",
            "\u001b[2K     \u001b[90m━━━━━━━━━━━━━━━━━━━━━━━━━━━━━━━━━━━━━━━\u001b[0m \u001b[32m100.0/100.0 kB\u001b[0m \u001b[31m6.0 MB/s\u001b[0m eta \u001b[36m0:00:00\u001b[0m\n",
            "\u001b[?25hInstalling collected packages: xlwt\n",
            "Successfully installed xlwt-1.3.0\n"
          ]
        }
      ],
      "source": [
        "!pip install xlwt"
      ]
    },
    {
      "cell_type": "code",
      "execution_count": null,
      "metadata": {
        "id": "NXSlWlMFNT8P"
      },
      "outputs": [],
      "source": [
        "import pandas as pd\n",
        "import numpy as np\n",
        "import pyreadstat\n",
        "import re\n",
        "import os\n",
        "\n",
        "import tensorflow as tf\n",
        "import json\n",
        "from sklearn.preprocessing import MinMaxScaler, OrdinalEncoder\n",
        "from sklearn.model_selection import train_test_split\n",
        "from sklearn.metrics import r2_score, roc_auc_score\n",
        "\n",
        "from gaminet import GAMINet\n",
        "from gaminet.utils import local_visualize\n",
        "from gaminet.utils import global_visualize_density\n",
        "from gaminet.utils import feature_importance_visualize\n",
        "from gaminet.utils import plot_trajectory\n",
        "from gaminet.utils import plot_regularization"
      ]
    },
    {
      "cell_type": "code",
      "execution_count": null,
      "metadata": {
        "colab": {
          "base_uri": "https://localhost:8080/"
        },
        "id": "6rx524pozoGc",
        "outputId": "dcaea7be-721d-4b3d-be4c-9fecec1761bc"
      },
      "outputs": [
        {
          "name": "stdout",
          "output_type": "stream",
          "text": [
            "(20980, 83)\n"
          ]
        }
      ],
      "source": [
        "df, meta = pyreadstat.read_sas7bdat('uk_comm_ptrans_data.sas7bdat')\n",
        "print(df.values.shape)"
      ]
    },
    {
      "cell_type": "code",
      "execution_count": null,
      "metadata": {
        "colab": {
          "base_uri": "https://localhost:8080/"
        },
        "id": "El2bQabZLEAh",
        "outputId": "1d12e720-81a5-4cdc-873a-4a62c586ceaa"
      },
      "outputs": [
        {
          "name": "stdout",
          "output_type": "stream",
          "text": [
            "['applic_date', 'purchase_date', 'date_into_lru']\n"
          ]
        }
      ],
      "source": [
        "cols = meta.column_names\n",
        "# temp_df = (df.mean() >= 1)\n",
        "# print(temp_df.values.shape)\n",
        "date_cols = [i for i in cols if \"date\" in i]\n",
        "print(date_cols)\n",
        "# print(df[date_cols].value_counts())\n",
        "# print(*cols, sep=\"\\n\")"
      ]
    },
    {
      "cell_type": "code",
      "execution_count": null,
      "metadata": {
        "colab": {
          "base_uri": "https://localhost:8080/"
        },
        "id": "Ho8_ht1UD-yk",
        "outputId": "69036fa7-63e5-43e7-db3c-a348db87ae54"
      },
      "outputs": [
        {
          "name": "stdout",
          "output_type": "stream",
          "text": [
            "{'acidtest_1': {'type': 'categorical'}, 'advance_pct': {'type': 'categorical'}, 'avgterm': {'type': 'categorical'}, 'balloon_amt': {'type': 'categorical'}, 'balloon_ind': {'type': 'categorical'}, 'business': {'type': 'categorical'}, 'capitalemployed_1': {'type': 'categorical'}, 'ccjtoshftotl24m_1': {'type': 'categorical'}, 'compage_1': {'type': 'categorical'}, 'compavgdbt_12mth_1': {'type': 'categorical'}, 'compavgdbt_3mth_1': {'type': 'categorical'}, 'compavgdbt_6mth_1': {'type': 'categorical'}, 'compdbt_1': {'type': 'categorical'}, 'compnumdbt_100000_1': {'type': 'categorical'}, 'compnumdbt_10000_1': {'type': 'categorical'}, 'compunpaccs_1': {'type': 'categorical'}, 'country': {'type': 'categorical'}, 'creditlimit_1': {'type': 'categorical'}, 'currentliabilitiestotal_1': {'type': 'categorical'}, 'curtoprevdirlst12mth_1': {'type': 'categorical'}, 'dl12_regnumber_1': {'type': 'categorical'}, 'dl41_supppaypattn_1': {'type': 'categorical'}, 'dl77_creditrating_1': {'type': 'categorical'}, 'dl80_region_1': {'type': 'categorical'}, 'dl80_siccode1992_1': {'type': 'categorical'}, 'equitygear_1': {'type': 'categorical'}, 'exposure': {'type': 'categorical'}, 'final_term': {'type': 'categorical'}, 'grossassets_1': {'type': 'categorical'}, 'indavgdbt_12mth_1': {'type': 'categorical'}, 'indavgdbt_3mth_1': {'type': 'categorical'}, 'indavgdbt_6mth_1': {'type': 'categorical'}, 'inddbt_1': {'type': 'categorical'}, 'indexpmth_1': {'type': 'categorical'}, 'lru_mth': {'type': 'categorical'}, 'lru_qtr': {'type': 'categorical'}, 'numccjlast12_1': {'type': 'categorical'}, 'numccls_1': {'type': 'categorical'}, 'numcurdirs_1': {'type': 'categorical'}, 'numdirwshares_1': {'type': 'categorical'}, 'numprevsrchs_12mths_1': {'type': 'categorical'}, 'numprevsrchs_3mths_1': {'type': 'categorical'}, 'numprevsrchs_6mths_1': {'type': 'categorical'}, 'numsatmortchrges_1': {'type': 'categorical'}, 'numunpaidacctslstmth_1': {'type': 'categorical'}, 'numyrsacctsavail_1': {'type': 'categorical'}, 'numyrspretaxproflst4yrs_1': {'type': 'categorical'}, 'odefind_new': {'type': 'categorical'}, 'percapptslst12mth_1': {'type': 'categorical'}, 'perccapemploftotassts_1': {'type': 'categorical'}, 'percchngecapempld_1': {'type': 'categorical'}, 'percchngecurratio_1': {'type': 'categorical'}, 'percchngeshfunds_1': {'type': 'categorical'}, 'percchngetotassts_1': {'type': 'categorical'}, 'perccurliaboftotassts_1': {'type': 'categorical'}, 'percfasstsoftotassts_1': {'type': 'categorical'}, 'percstockofcurassts_1': {'type': 'categorical'}, 'phwt': {'type': 'categorical'}, 'phwtaa': {'type': 'categorical'}, 'phwtdf': {'type': 'categorical'}, 'ppavcurrdbt_1': {'type': 'categorical'}, 'product': {'type': 'categorical'}, 'product2': {'type': 'categorical'}, 'purch_mth': {'type': 'categorical'}, 'purch_qtr': {'type': 'categorical'}, 'riskscore_1': {'type': 'categorical'}, 'sco1_pop_final': {'type': 'categorical'}, 'scope_refno': {'type': 'categorical'}, 'shorttermloans_1': {'type': 'categorical'}, 'sic92_2': {'type': 'categorical'}, 'sincelastacctssubmtd_1': {'type': 'categorical'}, 'sincelastretnssubmtd_1': {'type': 'categorical'}, 'slife_km': {'type': 'categorical'}, 'term': {'type': 'categorical'}, 'term_ds': {'type': 'categorical'}, 'time_in_business': {'type': 'categorical'}, 'totallongtermliabilities_1': {'type': 'categorical'}, 'totassets_1': {'type': 'categorical'}, 'vehicle_age': {'type': 'categorical'}, 'odefind1': {'type': 'target'}}\n",
            "80\n"
          ]
        }
      ],
      "source": [
        "def cat_or_num(col):\n",
        "    if(df[\"odefind_new\"].value_counts().shape[0] == 2):\n",
        "        return {\"type\":\"categorical\"}\n",
        "    else:\n",
        "        return {\"type\":\"continuous\"}\n",
        "\n",
        "meta_info = {}\n",
        "col_odefind1 = None\n",
        "for col in sorted(cols):\n",
        "    if(col != \"odefind1\" and col not in date_cols):\n",
        "        meta_info[col] = cat_or_num(col)\n",
        "    else:\n",
        "        try:\n",
        "            req = df.pop(col)\n",
        "            if(col == \"odefind1\"):\n",
        "                df[\"odefind1\"] = req\n",
        "        except Exception:\n",
        "            print(\"Already popped\")\n",
        "meta_info[\"odefind1\"] = {\"type\":\"target\"}\n",
        "print(meta_info)\n",
        "print(len(meta_info))"
      ]
    },
    {
      "cell_type": "code",
      "execution_count": null,
      "metadata": {
        "colab": {
          "base_uri": "https://localhost:8080/"
        },
        "id": "mRP-b-lsEEok",
        "outputId": "e57344f6-e667-476d-864a-b669b78c9f61"
      },
      "outputs": [
        {
          "name": "stdout",
          "output_type": "stream",
          "text": [
            "                                0\n",
            "scope_refno              0.000000\n",
            "advance_pct              0.000000\n",
            "balloon_amt              0.000000\n",
            "final_term               0.000000\n",
            "time_in_business         0.000000\n",
            "...                           ...\n",
            "percapptslst12mth_1      0.934223\n",
            "numccls_1                0.934223\n",
            "compunpaccs_1           28.517636\n",
            "numunpaidacctslstmth_1   3.112488\n",
            "odefind1                 0.000000\n",
            "\n",
            "[80 rows x 1 columns]\n",
            "                           0          0\n",
            "scope_refno                0   0.000000\n",
            "advance_pct                0   0.000000\n",
            "balloon_amt                0   0.000000\n",
            "final_term                 0   0.000000\n",
            "time_in_business           0   0.000000\n",
            "...                      ...        ...\n",
            "percapptslst12mth_1      196   0.934223\n",
            "numccls_1                196   0.934223\n",
            "compunpaccs_1           5983  28.517636\n",
            "numunpaidacctslstmth_1   653   3.112488\n",
            "odefind1                   0   0.000000\n",
            "\n",
            "[80 rows x 2 columns]\n"
          ]
        },
        {
          "name": "stderr",
          "output_type": "stream",
          "text": [
            "/opt/conda/lib/python3.7/site-packages/ipykernel_launcher.py:6: FutureWarning: As the xlwt package is no longer maintained, the xlwt engine will be removed in a future version of pandas. This is the only engine in pandas that supports writing in the xls format. Install openpyxl and write to an xlsx file instead. You can set the option io.excel.xls.writer to 'xlwt' to silence this warning. While this option is deprecated and will also raise a warning, it can be globally set and the warning suppressed.\n",
            "  \n"
          ]
        }
      ],
      "source": [
        "nan_cols = pd.DataFrame(df.isna().sum())\n",
        "nan100_cols = pd.DataFrame(df.isna().sum()*100/df.values.shape[0])\n",
        "print(nan100_cols)\n",
        "nan_df = pd.concat([nan_cols, nan100_cols], axis=1, join='inner')\n",
        "print(nan_df)\n",
        "nan_df.to_excel(\"information.xls\", sheet_name=\"Nan_Columns\")"
      ]
    },
    {
      "cell_type": "markdown",
      "metadata": {
        "id": "1IFyFwDTPTFJ"
      },
      "source": [
        "### Imputing and Removing specified colums:\n",
        "1. Remove ```compnumdbt_100000_1``` and ```scope_refno```\n",
        "1. Imputing remaining"
      ]
    },
    {
      "cell_type": "code",
      "execution_count": null,
      "metadata": {
        "colab": {
          "base_uri": "https://localhost:8080/"
        },
        "id": "viZhazhSKkhV",
        "outputId": "c7aaafbf-edf1-4a35-bb85-8876eb11820a"
      },
      "outputs": [
        {
          "name": "stdout",
          "output_type": "stream",
          "text": [
            "(20980, 78) 78\n"
          ]
        }
      ],
      "source": [
        "remove_cols = [\"compnumdbt_10000_1\", \"scope_refno\"]\n",
        "try:\n",
        "    for i in remove_cols:\n",
        "        meta_info.pop(i)\n",
        "        df.pop(i)\n",
        "except Exception:\n",
        "    print(\"Already popped\")\n",
        "print(df.values.shape, len(meta_info))"
      ]
    },
    {
      "cell_type": "code",
      "execution_count": null,
      "metadata": {
        "id": "rEvDrAACQ_oI"
      },
      "outputs": [],
      "source": [
        "# Imputed!!\n",
        "for i, (key, value) in enumerate(meta_info.items()):\n",
        "    if(value[\"type\"] == \"categorical\"):\n",
        "        df[key].fillna(df[key].mode()[0], inplace=True)\n",
        "    else:\n",
        "        df[key].fillna(df[key].mean(), inplace=True)\n"
      ]
    },
    {
      "cell_type": "code",
      "execution_count": null,
      "metadata": {
        "colab": {
          "base_uri": "https://localhost:8080/"
        },
        "id": "lKjQp2qdWTSp",
        "outputId": "83933e44-deca-43e0-88f9-78c949027256"
      },
      "outputs": [
        {
          "name": "stdout",
          "output_type": "stream",
          "text": [
            "(20980, 77) (20980, 1)\n",
            "(14686, 77) (14686, 1)\n"
          ]
        }
      ],
      "source": [
        "x, y = df.iloc[:,:-1].values, df.iloc[:,[-1]].values\n",
        "\n",
        "print(x.shape, y.shape)\n",
        "\n",
        "xx = np.zeros((x.shape[0], x.shape[1]), dtype=np.float32)\n",
        "for i, (key, item) in enumerate(meta_info.items()):\n",
        "    if item['type'] == 'target':\n",
        "        sy = MinMaxScaler((0,1))\n",
        "        y = sy.fit_transform(y)\n",
        "        meta_info[key]['scaler'] = sy\n",
        "    elif item['type'] == 'categorical':\n",
        "        enc = OrdinalEncoder()\n",
        "        xx[:,[i]] = enc.fit_transform(x[:,[i]])\n",
        "        meta_info[key]['values'] = []\n",
        "        for item in enc.categories_[0].tolist():\n",
        "            try:\n",
        "                if item == int(item):\n",
        "                    meta_info[key]['values'].append(str(int(item)))\n",
        "                else:\n",
        "                    meta_info[key]['values'].append(str(item))\n",
        "            except ValueError:\n",
        "                meta_info[key]['values'].append(str(item))\n",
        "    else:\n",
        "        sx = MinMaxScaler((0, 1))\n",
        "        xx[:,[i]] = sx.fit_transform(x[:,[i]])\n",
        "        meta_info[key]['scaler'] = sx\n",
        "\n",
        "task_type = 'Regression'\n",
        "train_x, test_x, train_y, test_y = train_test_split(xx.astype(np.float32), y, test_size=0.3, random_state=0)\n",
        "print(train_x.shape, train_y.shape)"
      ]
    },
    {
      "cell_type": "code",
      "execution_count": null,
      "metadata": {
        "id": "iq0EP0IeW0wv"
      },
      "outputs": [],
      "source": [
        "def metric_wrapper(metric, scaler):\n",
        "    def wrapper(label, pred):\n",
        "        return metric(label, pred, scaler=scaler)\n",
        "    return wrapper\n",
        "\n",
        "def ras(label, pred, scaler=None):\n",
        "    return r2_score(label, pred)\n",
        "\n",
        "get_metric = metric_wrapper(ras, None)"
      ]
    },
    {
      "cell_type": "markdown",
      "metadata": {
        "id": "ZXX5k29NXFgJ"
      },
      "source": [
        "================================================="
      ]
    },
    {
      "cell_type": "code",
      "execution_count": null,
      "metadata": {
        "colab": {
          "base_uri": "https://localhost:8080/"
        },
        "id": "R79zXXhmXD2J",
        "outputId": "fbf5ae9b-3a98-4e7c-c433-ced9202aff5e"
      },
      "outputs": [
        {
          "name": "stderr",
          "output_type": "stream",
          "text": [
            "2022-10-04 09:11:57.508969: W tensorflow/stream_executor/platform/default/dso_loader.cc:64] Could not load dynamic library 'libcuda.so.1'; dlerror: libcuda.so.1: cannot open shared object file: No such file or directory; LD_LIBRARY_PATH: /usr/local/cuda/lib64:/usr/local/nccl2/lib:/usr/local/cuda/extras/CUPTI/lib64\n",
            "2022-10-04 09:11:57.509026: W tensorflow/stream_executor/cuda/cuda_driver.cc:269] failed call to cuInit: UNKNOWN ERROR (303)\n",
            "2022-10-04 09:11:57.509064: I tensorflow/stream_executor/cuda/cuda_diagnostics.cc:156] kernel driver does not appear to be running on this host (test-nb): /proc/driver/nvidia/version does not exist\n",
            "2022-10-04 09:11:57.509633: I tensorflow/core/platform/cpu_feature_guard.cc:151] This TensorFlow binary is optimized with oneAPI Deep Neural Network Library (oneDNN) to use the following CPU instructions in performance-critical operations:  AVX2 FMA\n",
            "To enable them in other operations, rebuild TensorFlow with the appropriate compiler flags.\n"
          ]
        },
        {
          "name": "stdout",
          "output_type": "stream",
          "text": [
            "####################GAMI-Net training start.####################\n",
            "##########Stage 1: main effect training start.##########\n",
            "Main effects training epoch: 1, train loss: 0.83294, val loss: 0.83374\n",
            "Main effects training epoch: 2, train loss: 0.63930, val loss: 0.64160\n",
            "Main effects training epoch: 3, train loss: 0.44071, val loss: 0.44436\n",
            "Main effects training epoch: 4, train loss: 0.26767, val loss: 0.27210\n",
            "Main effects training epoch: 5, train loss: 0.14074, val loss: 0.14519\n",
            "Main effects training epoch: 6, train loss: 0.06393, val loss: 0.06773\n",
            "Main effects training epoch: 7, train loss: 0.02636, val loss: 0.02923\n",
            "Main effects training epoch: 8, train loss: 0.01178, val loss: 0.01379\n",
            "Main effects training epoch: 9, train loss: 0.00712, val loss: 0.00854\n",
            "Main effects training epoch: 10, train loss: 0.00572, val loss: 0.00681\n",
            "Main effects training epoch: 11, train loss: 0.00518, val loss: 0.00611\n",
            "Main effects training epoch: 12, train loss: 0.00486, val loss: 0.00573\n",
            "Main effects training epoch: 13, train loss: 0.00461, val loss: 0.00546\n",
            "Main effects training epoch: 14, train loss: 0.00441, val loss: 0.00525\n",
            "Main effects training epoch: 15, train loss: 0.00423, val loss: 0.00507\n",
            "Main effects training epoch: 16, train loss: 0.00407, val loss: 0.00493\n",
            "Main effects training epoch: 17, train loss: 0.00393, val loss: 0.00480\n",
            "Main effects training epoch: 18, train loss: 0.00380, val loss: 0.00468\n",
            "Main effects training epoch: 19, train loss: 0.00368, val loss: 0.00457\n",
            "Main effects training epoch: 20, train loss: 0.00357, val loss: 0.00447\n",
            "Main effects training epoch: 21, train loss: 0.00346, val loss: 0.00438\n",
            "Main effects training epoch: 22, train loss: 0.00335, val loss: 0.00428\n",
            "Main effects training epoch: 23, train loss: 0.00325, val loss: 0.00420\n",
            "Main effects training epoch: 24, train loss: 0.00314, val loss: 0.00412\n",
            "Main effects training epoch: 25, train loss: 0.00304, val loss: 0.00403\n",
            "Main effects training epoch: 26, train loss: 0.00294, val loss: 0.00394\n",
            "Main effects training epoch: 27, train loss: 0.00285, val loss: 0.00387\n",
            "Main effects training epoch: 28, train loss: 0.00275, val loss: 0.00379\n",
            "Main effects training epoch: 29, train loss: 0.00265, val loss: 0.00371\n",
            "Main effects training epoch: 30, train loss: 0.00256, val loss: 0.00364\n",
            "Main effects training epoch: 31, train loss: 0.00246, val loss: 0.00356\n",
            "Main effects training epoch: 32, train loss: 0.00237, val loss: 0.00348\n",
            "Main effects training epoch: 33, train loss: 0.00227, val loss: 0.00342\n",
            "Main effects training epoch: 34, train loss: 0.00218, val loss: 0.00335\n",
            "Main effects training epoch: 35, train loss: 0.00209, val loss: 0.00329\n",
            "Main effects training epoch: 36, train loss: 0.00199, val loss: 0.00321\n",
            "Main effects training epoch: 37, train loss: 0.00191, val loss: 0.00313\n",
            "Main effects training epoch: 38, train loss: 0.00181, val loss: 0.00305\n",
            "Main effects training epoch: 39, train loss: 0.00172, val loss: 0.00301\n",
            "Main effects training epoch: 40, train loss: 0.00163, val loss: 0.00291\n",
            "Main effects training epoch: 41, train loss: 0.00154, val loss: 0.00285\n",
            "Main effects training epoch: 42, train loss: 0.00146, val loss: 0.00280\n",
            "Main effects training epoch: 43, train loss: 0.00138, val loss: 0.00273\n",
            "Main effects training epoch: 44, train loss: 0.00130, val loss: 0.00268\n",
            "Main effects training epoch: 45, train loss: 0.00121, val loss: 0.00262\n",
            "Main effects training epoch: 46, train loss: 0.00113, val loss: 0.00257\n",
            "Main effects training epoch: 47, train loss: 0.00106, val loss: 0.00249\n",
            "Main effects training epoch: 48, train loss: 0.00099, val loss: 0.00246\n",
            "Main effects training epoch: 49, train loss: 0.00091, val loss: 0.00241\n",
            "Main effects training epoch: 50, train loss: 0.00084, val loss: 0.00236\n",
            "##########Stage 1: main effect training stop.##########\n",
            "##########Stage 2: interaction training start.##########\n",
            "Interaction training epoch: 1, train loss: 0.00007, val loss: 0.00104\n",
            "Interaction training epoch: 2, train loss: 0.00005, val loss: 0.00099\n",
            "Interaction training epoch: 3, train loss: 0.00004, val loss: 0.00097\n",
            "Interaction training epoch: 4, train loss: 0.00003, val loss: 0.00095\n",
            "Interaction training epoch: 5, train loss: 0.00002, val loss: 0.00093\n",
            "Interaction training epoch: 6, train loss: 0.00002, val loss: 0.00091\n",
            "Interaction training epoch: 7, train loss: 0.00001, val loss: 0.00092\n",
            "Interaction training epoch: 8, train loss: 0.00001, val loss: 0.00096\n",
            "Interaction training epoch: 9, train loss: 0.00001, val loss: 0.00097\n",
            "Interaction training epoch: 10, train loss: 0.00001, val loss: 0.00092\n",
            "Interaction training epoch: 11, train loss: 0.00001, val loss: 0.00092\n",
            "Interaction training epoch: 12, train loss: 0.00001, val loss: 0.00095\n",
            "Interaction training epoch: 13, train loss: 0.00001, val loss: 0.00099\n",
            "Interaction training epoch: 14, train loss: 0.00001, val loss: 0.00096\n",
            "Interaction training epoch: 15, train loss: 0.00001, val loss: 0.00096\n",
            "Interaction training epoch: 16, train loss: 0.00001, val loss: 0.00097\n",
            "Interaction training epoch: 17, train loss: 0.00001, val loss: 0.00094\n",
            "Interaction training epoch: 18, train loss: 0.00001, val loss: 0.00101\n",
            "Interaction training epoch: 19, train loss: 0.00001, val loss: 0.00089\n",
            "Interaction training epoch: 20, train loss: 0.00001, val loss: 0.00099\n",
            "Interaction training epoch: 21, train loss: 0.00001, val loss: 0.00091\n",
            "Interaction training epoch: 22, train loss: 0.00001, val loss: 0.00101\n",
            "Interaction training epoch: 23, train loss: 0.00001, val loss: 0.00092\n",
            "Interaction training epoch: 24, train loss: 0.00001, val loss: 0.00092\n",
            "Interaction training epoch: 25, train loss: 0.00001, val loss: 0.00094\n",
            "Interaction training epoch: 26, train loss: 0.00001, val loss: 0.00092\n",
            "Interaction training epoch: 27, train loss: 0.00001, val loss: 0.00090\n",
            "Interaction training epoch: 28, train loss: 0.00001, val loss: 0.00091\n",
            "Interaction training epoch: 29, train loss: 0.00001, val loss: 0.00096\n",
            "Interaction training epoch: 30, train loss: 0.00001, val loss: 0.00092\n",
            "Interaction training epoch: 31, train loss: 0.00001, val loss: 0.00091\n",
            "Interaction training epoch: 32, train loss: 0.00000, val loss: 0.00093\n",
            "Interaction training epoch: 33, train loss: 0.00001, val loss: 0.00095\n",
            "Interaction training epoch: 34, train loss: 0.00001, val loss: 0.00098\n",
            "Interaction training epoch: 35, train loss: 0.00001, val loss: 0.00092\n",
            "Interaction training epoch: 36, train loss: 0.00001, val loss: 0.00097\n",
            "Interaction training epoch: 37, train loss: 0.00000, val loss: 0.00095\n",
            "Interaction training epoch: 38, train loss: 0.00000, val loss: 0.00097\n",
            "Interaction training epoch: 39, train loss: 0.00001, val loss: 0.00096\n",
            "Interaction training epoch: 40, train loss: 0.00001, val loss: 0.00094\n",
            "Interaction training epoch: 41, train loss: 0.00000, val loss: 0.00091\n",
            "Interaction training epoch: 42, train loss: 0.00001, val loss: 0.00092\n",
            "Interaction training epoch: 43, train loss: 0.00000, val loss: 0.00093\n",
            "Interaction training epoch: 44, train loss: 0.00000, val loss: 0.00092\n",
            "Interaction training epoch: 45, train loss: 0.00001, val loss: 0.00096\n",
            "Interaction training epoch: 46, train loss: 0.00000, val loss: 0.00093\n",
            "Interaction training epoch: 47, train loss: 0.00001, val loss: 0.00097\n",
            "Interaction training epoch: 48, train loss: 0.00000, val loss: 0.00095\n",
            "Interaction training epoch: 49, train loss: 0.00000, val loss: 0.00092\n",
            "Interaction training epoch: 50, train loss: 0.00000, val loss: 0.00095\n",
            "##########Stage 2: interaction training stop.##########\n",
            "Fine tuning epoch: 1, train loss: 0.00000, val loss: 0.00094\n",
            "Fine tuning epoch: 2, train loss: 0.00001, val loss: 0.00093\n",
            "Fine tuning epoch: 3, train loss: 0.00000, val loss: 0.00094\n",
            "Fine tuning epoch: 4, train loss: 0.00000, val loss: 0.00093\n",
            "Fine tuning epoch: 5, train loss: 0.00001, val loss: 0.00090\n",
            "Fine tuning epoch: 6, train loss: 0.00001, val loss: 0.00099\n",
            "Fine tuning epoch: 7, train loss: 0.00000, val loss: 0.00096\n",
            "Fine tuning epoch: 8, train loss: 0.00000, val loss: 0.00095\n",
            "Fine tuning epoch: 9, train loss: 0.00000, val loss: 0.00092\n",
            "Fine tuning epoch: 10, train loss: 0.00001, val loss: 0.00092\n",
            "Fine tuning epoch: 11, train loss: 0.00000, val loss: 0.00095\n",
            "Fine tuning epoch: 12, train loss: 0.00000, val loss: 0.00096\n",
            "Fine tuning epoch: 13, train loss: 0.00000, val loss: 0.00094\n",
            "Fine tuning epoch: 14, train loss: 0.00000, val loss: 0.00097\n",
            "Fine tuning epoch: 15, train loss: 0.00000, val loss: 0.00098\n",
            "Fine tuning epoch: 16, train loss: 0.00000, val loss: 0.00092\n",
            "Fine tuning epoch: 17, train loss: 0.00000, val loss: 0.00098\n",
            "Fine tuning epoch: 18, train loss: 0.00000, val loss: 0.00097\n",
            "Fine tuning epoch: 19, train loss: 0.00000, val loss: 0.00098\n",
            "Fine tuning epoch: 20, train loss: 0.00000, val loss: 0.00100\n",
            "Fine tuning epoch: 21, train loss: 0.00000, val loss: 0.00097\n",
            "Fine tuning epoch: 22, train loss: 0.00000, val loss: 0.00094\n",
            "Fine tuning epoch: 23, train loss: 0.00000, val loss: 0.00097\n",
            "Fine tuning epoch: 24, train loss: 0.00000, val loss: 0.00096\n",
            "Fine tuning epoch: 25, train loss: 0.00000, val loss: 0.00097\n",
            "Fine tuning epoch: 26, train loss: 0.00000, val loss: 0.00096\n",
            "Fine tuning epoch: 27, train loss: 0.00000, val loss: 0.00096\n",
            "Fine tuning epoch: 28, train loss: 0.00000, val loss: 0.00098\n",
            "Fine tuning epoch: 29, train loss: 0.00000, val loss: 0.00097\n",
            "Fine tuning epoch: 30, train loss: 0.00000, val loss: 0.00099\n",
            "Fine tuning epoch: 31, train loss: 0.00000, val loss: 0.00100\n",
            "Fine tuning epoch: 32, train loss: 0.00000, val loss: 0.00101\n",
            "Fine tuning epoch: 33, train loss: 0.00000, val loss: 0.00103\n",
            "Fine tuning epoch: 34, train loss: 0.00000, val loss: 0.00101\n",
            "Fine tuning epoch: 35, train loss: 0.00000, val loss: 0.00102\n",
            "Fine tuning epoch: 36, train loss: 0.00001, val loss: 0.00105\n",
            "Fine tuning epoch: 37, train loss: 0.00000, val loss: 0.00101\n",
            "Fine tuning epoch: 38, train loss: 0.00000, val loss: 0.00103\n",
            "Fine tuning epoch: 39, train loss: 0.00000, val loss: 0.00102\n",
            "Fine tuning epoch: 40, train loss: 0.00001, val loss: 0.00105\n",
            "Fine tuning epoch: 41, train loss: 0.00001, val loss: 0.00106\n",
            "Fine tuning epoch: 42, train loss: 0.00000, val loss: 0.00103\n",
            "Fine tuning epoch: 43, train loss: 0.00000, val loss: 0.00106\n",
            "Fine tuning epoch: 44, train loss: 0.00000, val loss: 0.00104\n",
            "Fine tuning epoch: 45, train loss: 0.00000, val loss: 0.00105\n",
            "Fine tuning epoch: 46, train loss: 0.00001, val loss: 0.00116\n",
            "Fine tuning epoch: 47, train loss: 0.00001, val loss: 0.00114\n",
            "Fine tuning epoch: 48, train loss: 0.00001, val loss: 0.00115\n",
            "Fine tuning epoch: 49, train loss: 0.00001, val loss: 0.00115\n",
            "Fine tuning epoch: 50, train loss: 0.00000, val loss: 0.00110\n",
            "Fine tuning epoch: 51, train loss: 0.00001, val loss: 0.00118\n",
            "Fine tuning epoch: 52, train loss: 0.00000, val loss: 0.00116\n",
            "Fine tuning epoch: 53, train loss: 0.00001, val loss: 0.00116\n",
            "Fine tuning epoch: 54, train loss: 0.00000, val loss: 0.00115\n",
            "Fine tuning epoch: 55, train loss: 0.00000, val loss: 0.00122\n",
            "Fine tuning epoch: 56, train loss: 0.00000, val loss: 0.00120\n",
            "Early stop at epoch 56, with validation loss: 0.00120\n",
            "####################GAMI-Net training finished.####################\n"
          ]
        }
      ],
      "source": [
        "model = GAMINet(meta_info=meta_info, interact_num=30, \n",
        "                interact_arch=[100] * 5, subnet_arch=[100] * 5, \n",
        "                batch_size=100, task_type=task_type, activation_func=tf.nn.relu,\n",
        "                main_effect_epochs=50, interaction_epochs=50, tuning_epochs=100, \n",
        "                lr_bp=[0.0001, 0.0001, 0.0001], early_stop_thres=[50, 50, 50],\n",
        "                heredity=True, loss_threshold=0.01, reg_clarity=0.1,\n",
        "                mono_increasing_list=[], mono_decreasing_list=[], ## the indices list of features\n",
        "                verbose=True, val_ratio=0.2, random_state=0)\n",
        "\n",
        "model.fit(train_x, train_y)"
      ]
    },
    {
      "cell_type": "code",
      "execution_count": null,
      "metadata": {
        "colab": {
          "base_uri": "https://localhost:8080/",
          "height": 235
        },
        "id": "2P7PiF5gsV41",
        "outputId": "6ba8e234-cf63-40c4-9b61-82c2c1ccf54d"
      },
      "outputs": [
        {
          "data": {
            "image/png": "[encoded data removed]",
            "text/plain": [
              "<Figure size 1400x400 with 2 Axes>"
            ]
          },
          "metadata": {},
          "output_type": "display_data"
        },
        {
          "name": "stderr",
          "output_type": "stream",
          "text": [
            "The PostScript backend does not support transparency; partially transparent artists will be rendered opaque.\n"
          ]
        },
        {
          "data": {
            "image/png": "[encoded data removed]",
            "text/plain": [
              "<Figure size 1400x400 with 2 Axes>"
            ]
          },
          "metadata": {},
          "output_type": "display_data"
        }
      ],
      "source": [
        "folder = \"./imgs/\"\n",
        "if not os.path.exists(folder):\n",
        "    os.makedirs(folder)\n",
        "data_dict_logs = model.summary_logs(save_dict=False)\n",
        "plot_trajectory(data_dict_logs, folder=folder, name=\"DATASET_TRAJ\", save_png=True, save_eps=True, log_scale=False)\n",
        "plot_regularization(data_dict_logs, folder=folder, name=\"DATASET_REGU\", save_png=True, save_eps=True, log_scale=False)"
      ]
    },
    {
      "cell_type": "code",
      "execution_count": null,
      "metadata": {
        "id": "fKmcQuetsass"
      },
      "outputs": [],
      "source": [
        "data_dict_global = model.global_explain(save_dict=True, folder=folder, name=\"gaminet_global\")\n",
        "global_visualize_density(data_dict_global, folder=folder, name=\"gaminet_global\", main_effect_num=100, interaction_num=100, cols_per_row=1, save_png=True, save_eps=False)"
      ]
    },
    {
      "cell_type": "code",
      "execution_count": null,
      "metadata": {
        "id": "PdZco71Zsgru"
      },
      "outputs": [],
      "source": [
        "feature_importance_visualize(data_dict_global)\n",
        "data_dict_local = model.local_explain(test_x[[0]], test_y[[0]], save_dict=False)\n",
        "local_visualize(data_dict_local[0], save_png=False)"
      ]
    },
    {
      "cell_type": "code",
      "execution_count": null,
      "metadata": {
        "id": "ZjMo5DfDsnkU"
      },
      "outputs": [],
      "source": [
        "model.save(folder=\"./\", name=\"mod01\")"
      ]
    },
    {
      "cell_type": "code",
      "execution_count": null,
      "metadata": {
        "id": "h_JDfAnksubC",
        "outputId": "cb434ead-ab67-4a12-f9ff-67affc05a980"
      },
      "outputs": [
        {
          "name": "stdout",
          "output_type": "stream",
          "text": [
            "0.8143507453400057\n",
            "0.9580683107818195\n"
          ]
        }
      ],
      "source": [
        "pred_train = model.predict(train_x)\n",
        "pred_test = model.predict(test_x)\n",
        "print(r2_score(test_y, pred_test))\n",
        "print(r2_score(train_y, pred_train))"
      ]
    },
    {
      "cell_type": "code",
      "execution_count": null,
      "metadata": {
        "id": "v1UC3rOorYV4"
      },
      "outputs": [],
      "source": []
    }
  ],
  "metadata": {
    "accelerator": "GPU",
    "colab": {
      "collapsed_sections": [],
      "machine_shape": "hm",
      "provenance": []
    },
    "environment": {
      "kernel": "python3",
      "name": "tf2-gpu.2-8.m97",
      "type": "gcloud",
      "uri": "gcr.io/deeplearning-platform-release/tf2-gpu.2-8:m97"
    },
    "gpuClass": "standard",
    "kernelspec": {
      "display_name": "Python 3",
      "language": "python",
      "name": "python3"
    },
    "language_info": {
      "codemirror_mode": {
        "name": "ipython",
        "version": 3
      },
      "file_extension": ".py",
      "mimetype": "text/x-python",
      "name": "python",
      "nbconvert_exporter": "python",
      "pygments_lexer": "ipython3",
      "version": "3.7.12"
    }
  },
  "nbformat": 4,
  "nbformat_minor": 0
}